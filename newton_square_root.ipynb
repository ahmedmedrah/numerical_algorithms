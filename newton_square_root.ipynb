{
 "cells": [
  {
   "cell_type": "markdown",
   "id": "6ed45175",
   "metadata": {},
   "source": [
    "# Newton methon for finding the quare root of a number\n",
    "$$ root = (0.5 * (x+ \\frac{number}{x})) $$\n",
    "where x is a number equal to 1 or n"
   ]
  },
  {
   "cell_type": "code",
   "execution_count": 1,
   "id": "97afb136",
   "metadata": {},
   "outputs": [
    {
     "data": {
      "text/plain": [
       "5.0"
      ]
     },
     "execution_count": 1,
     "metadata": {},
     "output_type": "execute_result"
    }
   ],
   "source": [
    "def newton_square_root(num,tolerance = 1e-6):\n",
    "    root = (0.5 * (num-(num/(num+1))))\n",
    "    old_root = -1\n",
    "    while abs(root - old_root) > tolerance:\n",
    "        old_root = root\n",
    "        root = (0.5 * (root + (num/root)))\n",
    "    return root\n",
    "\n",
    "newton_square_root(25)"
   ]
  },
  {
   "cell_type": "code",
   "execution_count": null,
   "id": "6ba6df7b",
   "metadata": {},
   "outputs": [],
   "source": []
  }
 ],
 "metadata": {
  "kernelspec": {
   "display_name": "Python 3.7.6 64-bit ('base': conda)",
   "language": "python",
   "name": "python37664bitbaseconda6580541437ae4ee4bd799c9d9e1a3052"
  },
  "language_info": {
   "codemirror_mode": {
    "name": "ipython",
    "version": 3
   },
   "file_extension": ".py",
   "mimetype": "text/x-python",
   "name": "python",
   "nbconvert_exporter": "python",
   "pygments_lexer": "ipython3",
   "version": "3.8.10"
  }
 },
 "nbformat": 4,
 "nbformat_minor": 5
}
