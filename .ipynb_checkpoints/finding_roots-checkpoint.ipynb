{
 "cells": [
  {
   "cell_type": "markdown",
   "id": "fbca2eec",
   "metadata": {},
   "source": [
    "$$ f(x) = 2x^2 + 6x +4 $$"
   ]
  },
  {
   "cell_type": "markdown",
   "id": "7d9841bf",
   "metadata": {},
   "source": [
    "### Bisection"
   ]
  },
  {
   "cell_type": "code",
   "execution_count": 1,
   "id": "bc50ff67",
   "metadata": {},
   "outputs": [
    {
     "name": "stdout",
     "output_type": "stream",
     "text": [
      "it took 18 steps to converge at -2.0000009536743164\n"
     ]
    }
   ],
   "source": [
    "def f(x):\n",
    "    return 2*x*x+6*x+4\n",
    "\n",
    "def bisection_method(f,a,b,tolerance):\n",
    "    count = 0\n",
    "    g = (a+b)/2\n",
    "    while abs(b - a) > tolerance:\n",
    "        count += 1\n",
    "        if f(a) * f(g) < 0:\n",
    "            b = g\n",
    "        else:\n",
    "            a = g\n",
    "        g = (a+b)/2    \n",
    "    return count, g\n",
    "\n",
    "c,r = bisection_method(f, -3, -1.5, 1e-5)\n",
    "print(f'it took {c} steps to converge at {r}')"
   ]
  },
  {
   "cell_type": "markdown",
   "id": "5b12bee9",
   "metadata": {},
   "source": [
    "### Fixed Point"
   ]
  },
  {
   "cell_type": "code",
   "execution_count": 2,
   "id": "965cada9",
   "metadata": {},
   "outputs": [
    {
     "name": "stdout",
     "output_type": "stream",
     "text": [
      "it took 27 steps to converge at -1.0000162099453607\n"
     ]
    }
   ],
   "source": [
    "def g(x):\n",
    "    return ((-2*x*x)-4) /6\n",
    "\n",
    "def fixed_point(g, init_r, tolerance):\n",
    "    count = 0\n",
    "    p1 = init_r\n",
    "    p2 = g(p1)\n",
    "    while abs(p1 - p2) > tolerance:\n",
    "        p1 = p2\n",
    "        p2 = g(p1)\n",
    "        count += 1\n",
    "    return count, p2\n",
    "\n",
    "c,r = fixed_point(g,-1.5,1e-5)\n",
    "print(f'it took {c} steps to converge at {r}')"
   ]
  },
  {
   "cell_type": "markdown",
   "id": "b396a0eb",
   "metadata": {},
   "source": [
    "### Newton"
   ]
  },
  {
   "cell_type": "code",
   "execution_count": 3,
   "id": "6b534132",
   "metadata": {},
   "outputs": [
    {
     "name": "stdout",
     "output_type": "stream",
     "text": [
      "it took 6 steps to converge at -0.9999999999267515\n"
     ]
    }
   ],
   "source": [
    "def f(x):\n",
    "    return 2*x*x+6*x+4\n",
    "\n",
    "def df(x):\n",
    "    return 4*x+6\n",
    "\n",
    "def newton(f,df,init_g,tolerance):\n",
    "    count = 0\n",
    "    x1 = f(init_g)\n",
    "    x2 = x1 - (f(x1)/df(x1))\n",
    "    while abs(x1 - x2) > tolerance:\n",
    "        x1 = x2\n",
    "        x2 = x1 - (f(x1)/df(x1))\n",
    "        count += 1\n",
    "    return count,x2\n",
    "c,r = newton(f,df,-3,1e-5)\n",
    "print(f'it took {c} steps to converge at {r}')"
   ]
  },
  {
   "cell_type": "code",
   "execution_count": null,
   "id": "1704e929",
   "metadata": {},
   "outputs": [],
   "source": []
  }
 ],
 "metadata": {
  "kernelspec": {
   "display_name": "Python 3",
   "language": "python",
   "name": "python3"
  },
  "language_info": {
   "codemirror_mode": {
    "name": "ipython",
    "version": 3
   },
   "file_extension": ".py",
   "mimetype": "text/x-python",
   "name": "python",
   "nbconvert_exporter": "python",
   "pygments_lexer": "ipython3",
   "version": "3.8.10"
  }
 },
 "nbformat": 4,
 "nbformat_minor": 5
}
