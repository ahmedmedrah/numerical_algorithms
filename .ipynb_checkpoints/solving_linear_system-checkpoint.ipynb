{
 "cells": [
  {
   "cell_type": "code",
   "execution_count": 1,
   "id": "13f24c9e",
   "metadata": {},
   "outputs": [],
   "source": [
    "import numpy as np"
   ]
  },
  {
   "cell_type": "markdown",
   "id": "31a8189b",
   "metadata": {},
   "source": [
    "## Jacobi's Method\n",
    "$$ x^{(k)} = D^{-1}b - D^{-1} (L+U)x^{(k-1)}$$\n",
    "$$ x^{(k)} = D^{-1}(b - (L+U)x^{(k-1)}) $$\n",
    "\n",
    "$$Stop\\ criteria = \\frac{||x^{(k)} - x^{(k-1)} ||}  {||x^{(k)}||} < tolerance$$"
   ]
  },
  {
   "cell_type": "code",
   "execution_count": 2,
   "id": "741011fb",
   "metadata": {},
   "outputs": [],
   "source": [
    "def get_diff(x1,x2):\n",
    "    norm1 = np.linalg.norm(x1)\n",
    "    # equation 2\n",
    "    diff = np.linalg.norm(x1 - x2) / norm1\n",
    "    return diff\n",
    "\n",
    "def jacobi(A, b, tolerance):\n",
    "    steps = 0\n",
    "    # inital solution is [0,0,0,0]\n",
    "    xk_1 = np.zeros_like(b)\n",
    "    \n",
    "    # D is diagonal Matrix with only pivots\n",
    "    D = np.diag(A)\n",
    "    \n",
    "    # L_U is the matrix A without the diagonal\n",
    "    L_U = A - np.diag(D)  \n",
    "    \n",
    "    # equation 1\n",
    "    xk = (b - (L_U @ xk_1)) / D\n",
    "    \n",
    "    while get_diff(xk, xk_1) > tolerance:\n",
    "        steps += 1\n",
    "        xk_1 = xk\n",
    "        xk = (b - (L_U @ xk_1)) / D\n",
    "        \n",
    "    \n",
    "    return xk, steps"
   ]
  },
  {
   "cell_type": "markdown",
   "id": "78a9e19c",
   "metadata": {},
   "source": [
    "## Guass Siedel's Method\n",
    "$$ x^{(k)} = (L+D)^{-1}(b -  Ux^{(k-1)})$$\n",
    "\n",
    "$$Stop\\ criteria = \\frac{||x^{(k)} - x^{(k-1)} ||}  {||x^{(k)}||} < tolerance$$"
   ]
  },
  {
   "cell_type": "code",
   "execution_count": 3,
   "id": "832e5399",
   "metadata": {},
   "outputs": [],
   "source": [
    "def guass_siedel(A,b,tolerance):\n",
    "    steps = 0\n",
    "    # inital solution is [0,0,0,0]\n",
    "    xk_1 = np.zeros_like(b)\n",
    "    \n",
    "    # LD is diagonal + Lower triangle Matrix\n",
    "    LD = np.tril(A)\n",
    "    \n",
    "    # U is upper triangle matrix without the diagnal\n",
    "    U = A - LD\n",
    "    \n",
    "    # inverse of L+D\n",
    "    LDinv = np.linalg.inv(LD)\n",
    "    \n",
    "    # equation 1\n",
    "    xk = LDinv @ (b - (U @ xk_1))\n",
    "    \n",
    "    while get_diff(xk,xk_1) > tolerance:\n",
    "        steps += 1\n",
    "        xk_1 = xk\n",
    "        xk = LDinv @ (b - (U @ xk_1))\n",
    "        \n",
    "    return xk, steps"
   ]
  },
  {
   "cell_type": "markdown",
   "id": "c50aa347",
   "metadata": {},
   "source": [
    "# Question 1 (Medium)"
   ]
  },
  {
   "cell_type": "code",
   "execution_count": 4,
   "id": "a6c81355",
   "metadata": {},
   "outputs": [],
   "source": [
    "P = np.array([\n",
    "    [4,-1,-1,0,0,0,0,0,0,0],\n",
    "    [-1,5,-1,-1,-1,0,0,0,0,0],\n",
    "    [-1,-1,5,0,-1,-1,0,0,0,0],\n",
    "    [0,-1,0,5,-1,0,-1,-1,0,0],\n",
    "    [0,-1,-1,-1,6,-1,0,-1,-1,0],\n",
    "    [0,0,-1,0,-1,5,0,0,-1,-1],\n",
    "    [0,0,0,-1,0,0,4,-1,0,0],\n",
    "    [0,0,0,-1,-1,0,-1,5,-1,0],\n",
    "    [0,0,0,0,-1,-1,0,-1,5,-1],\n",
    "    [0,0,0,0,0,-1,0,0,-1,4]\n",
    "])\n",
    "\n",
    "b = np.array([0,0,0,0,0,0,1,1,1,1])"
   ]
  },
  {
   "cell_type": "markdown",
   "id": "1684670d",
   "metadata": {},
   "source": [
    "## using Jacobi"
   ]
  },
  {
   "cell_type": "code",
   "execution_count": 5,
   "id": "a3b6f7e6",
   "metadata": {},
   "outputs": [
    {
     "name": "stdout",
     "output_type": "stream",
     "text": [
      "intersection 1 has probability 0.090 of winning\n",
      "intersection 2 has probability 0.180 of winning\n",
      "intersection 3 has probability 0.180 of winning\n",
      "intersection 4 has probability 0.298 of winning\n",
      "intersection 5 has probability 0.333 of winning\n",
      "intersection 6 has probability 0.298 of winning\n",
      "intersection 7 has probability 0.455 of winning\n",
      "intersection 8 has probability 0.521 of winning\n",
      "intersection 9 has probability 0.521 of winning\n",
      "intersection 10 has probability 0.455 of winning\n",
      "in 31 steps\n"
     ]
    }
   ],
   "source": [
    "x,s = jacobi(P,b,1e-4)\n",
    "for i in range(len(x)):\n",
    "    print(f'intersection {i+1} has probability {x[i]:.3f} of winning')\n",
    "print(f\"in {s} steps\")   "
   ]
  },
  {
   "cell_type": "markdown",
   "id": "4cacf1f7",
   "metadata": {},
   "source": [
    "## using Gauss-Seidel"
   ]
  },
  {
   "cell_type": "code",
   "execution_count": 6,
   "id": "e5859d4f",
   "metadata": {},
   "outputs": [
    {
     "name": "stdout",
     "output_type": "stream",
     "text": [
      "intersection 1 has probability 0.090 of winning\n",
      "intersection 2 has probability 0.180 of winning\n",
      "intersection 3 has probability 0.180 of winning\n",
      "intersection 4 has probability 0.298 of winning\n",
      "intersection 5 has probability 0.333 of winning\n",
      "intersection 6 has probability 0.298 of winning\n",
      "intersection 7 has probability 0.455 of winning\n",
      "intersection 8 has probability 0.522 of winning\n",
      "intersection 9 has probability 0.522 of winning\n",
      "intersection 10 has probability 0.455 of winning\n",
      "in 18 steps\n"
     ]
    }
   ],
   "source": [
    "x,s = guass_siedel(P,b,1e-4)\n",
    "for i in range(len(x)):\n",
    "    print(f'intersection {i+1} has probability {x[i]:.3f} of winning')\n",
    "print(f\"in {s} steps\")   "
   ]
  },
  {
   "cell_type": "markdown",
   "id": "8b434681",
   "metadata": {},
   "source": [
    "Gauss-Seidel converged faster"
   ]
  },
  {
   "cell_type": "markdown",
   "id": "29fcf11a",
   "metadata": {},
   "source": [
    "# Question 2 (Easy)"
   ]
  },
  {
   "cell_type": "code",
   "execution_count": 8,
   "id": "b1fb5dbc",
   "metadata": {},
   "outputs": [],
   "source": [
    "def power_method(A, n_iters):\n",
    "    x = np.random.rand(A.shape[0])\n",
    "    for i in range(n_iters):\n",
    "        x = (A @ x) / np.linalg.norm(x)\n",
    "    l = ((A @ x) / x)[0]\n",
    "    v = x / l\n",
    "    return l, v"
   ]
  },
  {
   "cell_type": "markdown",
   "id": "a1fb77c7",
   "metadata": {},
   "source": [
    "## (1)"
   ]
  },
  {
   "cell_type": "code",
   "execution_count": 11,
   "id": "b5b94222",
   "metadata": {},
   "outputs": [
    {
     "name": "stdout",
     "output_type": "stream",
     "text": [
      "eigenvalue: 0.884645977621917\n",
      "eigenvector\n",
      "[0.86227452 0.48735521 0.13772624]\n"
     ]
    }
   ],
   "source": [
    "M = np.array([\n",
    "    [0,   1,    2],\n",
    "    [0.5, 0,    0],\n",
    "    [0,   0.25, 0]\n",
    "])\n",
    "\n",
    "l,v = power_method(M,30)\n",
    "print(f'eigenvalue: {l}\\neigenvector\\n{v}')"
   ]
  },
  {
   "cell_type": "markdown",
   "id": "81341645",
   "metadata": {},
   "source": [
    "#### the correct eigenvalue and eigenvector "
   ]
  },
  {
   "cell_type": "code",
   "execution_count": 12,
   "id": "e9e86a70",
   "metadata": {},
   "outputs": [
    {
     "name": "stdout",
     "output_type": "stream",
     "text": [
      "(0.8846461771193161+0j)\n",
      "[-0.86227396+0.j -0.48735527+0.j -0.13772604+0.j]\n"
     ]
    }
   ],
   "source": [
    "l,v = np.linalg.eig(M)\n",
    "print(l[0])\n",
    "print(v[:,0])"
   ]
  },
  {
   "cell_type": "markdown",
   "id": "a32065ae",
   "metadata": {},
   "source": [
    "### (2)"
   ]
  },
  {
   "cell_type": "code",
   "execution_count": 10,
   "id": "ca17d655",
   "metadata": {},
   "outputs": [
    {
     "name": "stdout",
     "output_type": "stream",
     "text": [
      "eigenvalue: 2.0000000871536936\n",
      "eigenvector\n",
      "[0.96836394 0.242091   0.06052274]\n"
     ]
    }
   ],
   "source": [
    "M = np.array([\n",
    "    [0,   6,    8],\n",
    "    [0.5, 0,    0],\n",
    "    [0,   0.5,  0]\n",
    "])\n",
    "\n",
    "l,v = power_method(M,30)\n",
    "print(f'eigenvalue: {l}\\neigenvector\\n{v}')"
   ]
  },
  {
   "cell_type": "markdown",
   "id": "f27d139d",
   "metadata": {},
   "source": [
    "#### the correct eigenvalue and eigen vector"
   ]
  },
  {
   "cell_type": "code",
   "execution_count": 11,
   "id": "224b5de8",
   "metadata": {},
   "outputs": [
    {
     "name": "stdout",
     "output_type": "stream",
     "text": [
      "2.0000000000000013\n",
      "[-0.96836405 -0.24209101 -0.06052275]\n"
     ]
    }
   ],
   "source": [
    "l,v = np.linalg.eig(M)\n",
    "print(l[0])\n",
    "print(v[:,0])"
   ]
  },
  {
   "cell_type": "code",
   "execution_count": null,
   "id": "df3e84c4",
   "metadata": {},
   "outputs": [],
   "source": []
  }
 ],
 "metadata": {
  "kernelspec": {
   "display_name": "Python 3",
   "language": "python",
   "name": "python3"
  },
  "language_info": {
   "codemirror_mode": {
    "name": "ipython",
    "version": 3
   },
   "file_extension": ".py",
   "mimetype": "text/x-python",
   "name": "python",
   "nbconvert_exporter": "python",
   "pygments_lexer": "ipython3",
   "version": "3.8.10"
  }
 },
 "nbformat": 4,
 "nbformat_minor": 5
}
