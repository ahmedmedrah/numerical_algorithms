{
 "cells": [
  {
   "cell_type": "code",
   "execution_count": 1,
   "id": "e6aaba2b",
   "metadata": {},
   "outputs": [],
   "source": [
    "import numpy as np\n",
    "import pandas as pd\n",
    "import matplotlib.pyplot as plt\n",
    "from sklearn.datasets import load_iris"
   ]
  },
  {
   "cell_type": "code",
   "execution_count": 2,
   "id": "cd4c791e",
   "metadata": {},
   "outputs": [
    {
     "data": {
      "text/html": [
       "<div>\n",
       "<style scoped>\n",
       "    .dataframe tbody tr th:only-of-type {\n",
       "        vertical-align: middle;\n",
       "    }\n",
       "\n",
       "    .dataframe tbody tr th {\n",
       "        vertical-align: top;\n",
       "    }\n",
       "\n",
       "    .dataframe thead tr th {\n",
       "        text-align: left;\n",
       "    }\n",
       "</style>\n",
       "<table border=\"1\" class=\"dataframe\">\n",
       "  <thead>\n",
       "    <tr>\n",
       "      <th></th>\n",
       "      <th>sepal length (cm)</th>\n",
       "      <th>sepal width (cm)</th>\n",
       "      <th>petal length (cm)</th>\n",
       "      <th>petal width (cm)</th>\n",
       "    </tr>\n",
       "  </thead>\n",
       "  <tbody>\n",
       "    <tr>\n",
       "      <th>0</th>\n",
       "      <td>5.1</td>\n",
       "      <td>3.5</td>\n",
       "      <td>1.4</td>\n",
       "      <td>0.2</td>\n",
       "    </tr>\n",
       "    <tr>\n",
       "      <th>1</th>\n",
       "      <td>4.9</td>\n",
       "      <td>3.0</td>\n",
       "      <td>1.4</td>\n",
       "      <td>0.2</td>\n",
       "    </tr>\n",
       "    <tr>\n",
       "      <th>2</th>\n",
       "      <td>4.7</td>\n",
       "      <td>3.2</td>\n",
       "      <td>1.3</td>\n",
       "      <td>0.2</td>\n",
       "    </tr>\n",
       "    <tr>\n",
       "      <th>3</th>\n",
       "      <td>4.6</td>\n",
       "      <td>3.1</td>\n",
       "      <td>1.5</td>\n",
       "      <td>0.2</td>\n",
       "    </tr>\n",
       "    <tr>\n",
       "      <th>4</th>\n",
       "      <td>5.0</td>\n",
       "      <td>3.6</td>\n",
       "      <td>1.4</td>\n",
       "      <td>0.2</td>\n",
       "    </tr>\n",
       "  </tbody>\n",
       "</table>\n",
       "</div>"
      ],
      "text/plain": [
       "  sepal length (cm) sepal width (cm) petal length (cm) petal width (cm)\n",
       "0               5.1              3.5               1.4              0.2\n",
       "1               4.9              3.0               1.4              0.2\n",
       "2               4.7              3.2               1.3              0.2\n",
       "3               4.6              3.1               1.5              0.2\n",
       "4               5.0              3.6               1.4              0.2"
      ]
     },
     "execution_count": 2,
     "metadata": {},
     "output_type": "execute_result"
    }
   ],
   "source": [
    "iris = load_iris()\n",
    "iris_df = pd.DataFrame(iris.data,columns=[iris.feature_names])\n",
    "iris_df.head()"
   ]
  },
  {
   "cell_type": "code",
   "execution_count": 3,
   "id": "d93048f8",
   "metadata": {
    "scrolled": true
   },
   "outputs": [
    {
     "data": {
      "text/plain": [
       "(150, 4)"
      ]
     },
     "execution_count": 3,
     "metadata": {},
     "output_type": "execute_result"
    }
   ],
   "source": [
    "X = iris.data\n",
    "X.shape"
   ]
  },
  {
   "cell_type": "markdown",
   "id": "572bd112",
   "metadata": {},
   "source": [
    "#### getting the mean-centered vectors"
   ]
  },
  {
   "cell_type": "code",
   "execution_count": 4,
   "id": "b5d07324",
   "metadata": {},
   "outputs": [
    {
     "name": "stdout",
     "output_type": "stream",
     "text": [
      "mean centered vectors\n",
      " [[-0.74333333  0.44266667 -2.358      -0.99933333]\n",
      " [-0.94333333 -0.05733333 -2.358      -0.99933333]\n",
      " [-1.14333333  0.14266667 -2.458      -0.99933333]\n",
      " [-1.24333333  0.04266667 -2.258      -0.99933333]\n",
      " [-0.84333333  0.54266667 -2.358      -0.99933333]]\n"
     ]
    }
   ],
   "source": [
    "Z = np.zeros_like(X)\n",
    "for i in range(X.shape[1]):\n",
    "    Z[:,i] = (X[:,i] - X[:,i].mean())\n",
    "\n",
    "print('mean centered vectors\\n',Z[:5])"
   ]
  },
  {
   "cell_type": "markdown",
   "id": "6c5693cf",
   "metadata": {},
   "source": [
    "#### getting the covariance matrix"
   ]
  },
  {
   "cell_type": "code",
   "execution_count": 5,
   "id": "16258f3d",
   "metadata": {},
   "outputs": [
    {
     "name": "stdout",
     "output_type": "stream",
     "text": [
      "Covariance Matrix\n",
      " [[102.16833333  -6.32266667 189.873       76.92433333]\n",
      " [ -6.32266667  28.30693333 -49.1188     -18.12426667]\n",
      " [189.873      -49.1188     464.3254     193.0458    ]\n",
      " [ 76.92433333 -18.12426667 193.0458      86.56993333]]\n"
     ]
    }
   ],
   "source": [
    "C = (Z.T.dot(Z))\n",
    "\n",
    "print('Covariance Matrix\\n',C)"
   ]
  },
  {
   "cell_type": "markdown",
   "id": "c184541d",
   "metadata": {},
   "source": [
    "#### w => eigenvalues,  v => eigenvectors"
   ]
  },
  {
   "cell_type": "code",
   "execution_count": 6,
   "id": "0ac3e65e",
   "metadata": {},
   "outputs": [
    {
     "name": "stdout",
     "output_type": "stream",
     "text": [
      "eigenvales:\n",
      "[[630.0080142 ]\n",
      " [ 36.15794144]\n",
      " [ 11.65321551]\n",
      " [  3.55142885]]\n",
      "\n",
      "eigenvectors:\n",
      "[[ 0.36138659 -0.65658877 -0.58202985  0.31548719]\n",
      " [-0.08452251 -0.73016143  0.59791083 -0.3197231 ]\n",
      " [ 0.85667061  0.17337266  0.07623608 -0.47983899]\n",
      " [ 0.3582892   0.07548102  0.54583143  0.75365743]]\n"
     ]
    }
   ],
   "source": [
    "w, v = np.linalg.eig(C)\n",
    "\n",
    "print(f'eigenvales:\\n{w.reshape(-1,1)}\\n\\neigenvectors:\\n{v}')"
   ]
  },
  {
   "cell_type": "markdown",
   "id": "968ebe11",
   "metadata": {},
   "source": [
    "#### V is a matrix with M eigenvectors corresponding with the M largest eigenvalues"
   ]
  },
  {
   "cell_type": "code",
   "execution_count": 7,
   "id": "bbf96399",
   "metadata": {},
   "outputs": [],
   "source": [
    "V = v[:,:2]"
   ]
  },
  {
   "cell_type": "markdown",
   "id": "8b40f82d",
   "metadata": {},
   "source": [
    "#### T is the projection on the M principal components"
   ]
  },
  {
   "cell_type": "code",
   "execution_count": 8,
   "id": "30ab9464",
   "metadata": {},
   "outputs": [],
   "source": [
    "T = Z @ V"
   ]
  },
  {
   "cell_type": "markdown",
   "id": "52a915c0",
   "metadata": {},
   "source": [
    "#### plotting the iris dataset using 2 principal components"
   ]
  },
  {
   "cell_type": "code",
   "execution_count": 9,
   "id": "5fccfbd9",
   "metadata": {
    "scrolled": true
   },
   "outputs": [
    {
     "data": {
      "image/png": "[encoded data removed]",
      "text/plain": [
       "<Figure size 432x288 with 1 Axes>"
      ]
     },
     "metadata": {
      "needs_background": "light"
     },
     "output_type": "display_data"
    }
   ],
   "source": [
    "target_names = iris.target_names\n",
    "y = iris.target\n",
    "for c, i, target_name in zip(\"rgb\", [0, 1, 2], target_names):\n",
    "    plt.scatter(T[y==i,0], T[y==i,1], c=c, label=target_name)\n",
    "plt.xlabel('Principal Component 1')\n",
    "plt.ylabel('Principal Component 2')\n",
    "plt.legend()\n",
    "plt.title('PCA of IRIS dataset')\n",
    "plt.show()"
   ]
  },
  {
   "cell_type": "code",
   "execution_count": null,
   "id": "7482ceca",
   "metadata": {},
   "outputs": [],
   "source": []
  }
 ],
 "metadata": {
  "kernelspec": {
   "display_name": "Python 3",
   "language": "python",
   "name": "python3"
  },
  "language_info": {
   "codemirror_mode": {
    "name": "ipython",
    "version": 3
   },
   "file_extension": ".py",
   "mimetype": "text/x-python",
   "name": "python",
   "nbconvert_exporter": "python",
   "pygments_lexer": "ipython3",
   "version": "3.8.10"
  }
 },
 "nbformat": 4,
 "nbformat_minor": 5
}
