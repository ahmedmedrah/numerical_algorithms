{
 "cells": [
  {
   "cell_type": "code",
   "execution_count": 1,
   "id": "7f84b395",
   "metadata": {},
   "outputs": [],
   "source": [
    "import numpy as np"
   ]
  },
  {
   "cell_type": "code",
   "execution_count": 2,
   "id": "a16609c4",
   "metadata": {},
   "outputs": [],
   "source": [
    "def power_method(A, n_iters):\n",
    "    x = np.random.rand(A.shape[0])\n",
    "    for i in range(n_iters):\n",
    "        x = (A @ x) / np.linalg.norm(x)\n",
    "    l = ((A @ x) / x)[0]\n",
    "    v = x / l\n",
    "    return l, v"
   ]
  },
  {
   "cell_type": "code",
   "execution_count": 3,
   "id": "e92a04f3",
   "metadata": {
    "scrolled": true
   },
   "outputs": [
    {
     "name": "stdout",
     "output_type": "stream",
     "text": [
      "eigenvalue: 2.0000000701801803\n",
      "eigenvector\n",
      "[0.96836396 0.24209101 0.06052274]\n"
     ]
    }
   ],
   "source": [
    "M = np.array([\n",
    "    [0,   6,    8],\n",
    "    [0.5, 0,    0],\n",
    "    [0,   0.5,  0]\n",
    "])\n",
    "\n",
    "l,v = power_method(M,30)\n",
    "print(f'eigenvalue: {l}\\neigenvector\\n{v}')"
   ]
  },
  {
   "cell_type": "markdown",
   "id": "54ad7f44",
   "metadata": {},
   "source": [
    "#### the correct eigenvalue and eigenvector "
   ]
  },
  {
   "cell_type": "code",
   "execution_count": 4,
   "id": "f420241c",
   "metadata": {},
   "outputs": [
    {
     "name": "stdout",
     "output_type": "stream",
     "text": [
      "2.0000000000000013\n",
      "[-0.96836405 -0.24209101 -0.06052275]\n"
     ]
    }
   ],
   "source": [
    "l,v = np.linalg.eig(M)\n",
    "print(l[0])\n",
    "print(v[:,0])"
   ]
  },
  {
   "cell_type": "code",
   "execution_count": null,
   "id": "eacc4759",
   "metadata": {},
   "outputs": [],
   "source": []
  }
 ],
 "metadata": {
  "kernelspec": {
   "display_name": "Python 3",
   "language": "python",
   "name": "python3"
  },
  "language_info": {
   "codemirror_mode": {
    "name": "ipython",
    "version": 3
   },
   "file_extension": ".py",
   "mimetype": "text/x-python",
   "name": "python",
   "nbconvert_exporter": "python",
   "pygments_lexer": "ipython3",
   "version": "3.8.10"
  }
 },
 "nbformat": 4,
 "nbformat_minor": 5
}
